{
 "cells": [
  {
   "attachments": {},
   "cell_type": "markdown",
   "metadata": {},
   "source": [
    "# the cryptopals crypto challenges\n",
    "\n",
    "## Crypto Challenge Set 1"
   ]
  },
  {
   "attachments": {},
   "cell_type": "markdown",
   "metadata": {},
   "source": [
    "Cryptopals Rule:\n",
    ">Always operate on raw bytes, never on encoded strings. Only use hex and base64 for pretty-printing.\n",
    "\n",
    "### Encodings\n",
    "\n",
    "- ASCII (256). [Table](https://www.ascii-code.com/compact)\n",
    "- HEX (16)\n",
    "\n",
    "### Numbering Systems\n",
    "\n",
    "1. Binary (base 2)\n",
    "2. [Octal](https://www.electronics-tutorials.ws/binary/bin_4.html) (base 8)\n",
    "3. Decimal (base 10)\n",
    "4. Hexadecimal (base 16)\n",
    "\n",
    "| Binary | 0 | 1 | 10 | 11 | 100 | 101 | 110 | 111 | 1000 | 1001 | 1010 | 1011 | 1100 | 1101 | 1110 | 1111 | 10000 |\n",
    "| -:| -:| -:| -:| -:| -:| -:| -:| -:| -:| -:| -:| -:| -:| -:| -:| -:| -:|\n",
    "| Decimal | 0 | 1 | 2 | 3 | 4 | 5 | 6 | 7 | 8 | 9  | 10 | 11 | 12 | 13 | 14 | 15 | 16 |\n",
    "| Hexadecimal | 0 | 1 | 2 | 3 | 4 | 5 | 6 | 7 | 8 | 9  | A | B | C | D | E | F | 10 |\n",
    "\n",
    "### Example\n",
    "\n",
    "Represent the decimal number 512 in hex: `512 = 2 x 16^2 + 0 x 16^1 + 0 x 160 = 200`"
   ]
  },
  {
   "attachments": {},
   "cell_type": "markdown",
   "metadata": {},
   "source": [
    "### Challenge 1 - Convert hex to base64"
   ]
  },
  {
   "cell_type": "code",
   "execution_count": 1,
   "metadata": {},
   "outputs": [],
   "source": [
    "from enum import Enum\n",
    "\n",
    "class Mode(Enum):\n",
    "    ENCRYPT = \"ENCRYPT\"\n",
    "    DECRYPT = \"DECRYPT\"\n"
   ]
  },
  {
   "cell_type": "code",
   "execution_count": 2,
   "metadata": {},
   "outputs": [],
   "source": [
    "import base64\n",
    "from typing import Union\n",
    "\n",
    "def convert_hex_to_base64(hex_str: str) -> Union[bytes, None]:\n",
    "  try:\n",
    "    # first decode string from hex representation\n",
    "    raw_bytes = bytearray.fromhex(hex_str)\n",
    "    # now encode bytes to base64 encoding\n",
    "    b64_bytes = base64.b64encode(raw_bytes)\n",
    "    return b64_bytes\n",
    "  except ValueError:\n",
    "    print(f\"Invalid hexadecimal string: {hex_str}\")\n",
    "    return None\n"
   ]
  },
  {
   "cell_type": "code",
   "execution_count": 3,
   "metadata": {},
   "outputs": [
    {
     "name": "stdout",
     "output_type": "stream",
     "text": [
      "Set 1 Challenge 1 passing\n"
     ]
    }
   ],
   "source": [
    "# https://docs.python.org/3/library/stdtypes.html#bytes.decode\n",
    "assert convert_hex_to_base64(\"49276d206b696c6c696e6720796f757220627261696e206c696b65206120706f69736f6e6f7573206d757368726f6f6d\").decode() == \"SSdtIGtpbGxpbmcgeW91ciBicmFpbiBsaWtlIGEgcG9pc29ub3VzIG11c2hyb29t\"\n",
    "print(f'Set 1 Challenge 1 passing')"
   ]
  },
  {
   "attachments": {},
   "cell_type": "markdown",
   "metadata": {},
   "source": [
    "### Challenge 2 - Fixed XOR"
   ]
  },
  {
   "attachments": {},
   "cell_type": "markdown",
   "metadata": {},
   "source": [
    ">In cryptography, the simple XOR cipher is a type of additive cipher, an encryption algorithm that operates according to the principles:\n",
    "\n",
    "```\n",
    "A ^ 0 = A\n",
    "A ^ A = 0\n",
    "A ^ B = B ^ A\n",
    "(A ^ B) ^ C = A ^ (B ^ C)\n",
    "(B ^ A) ^ A = B ^ 0 = B\n",
    "```\n",
    "\n",
    ">where `^` denotes the exclusive disjunction (XOR) operation. This operation is sometimes called modulus 2 addition (or subtraction, which is identical). With this logic, a string of text can be encrypted by applying the bitwise XOR operator to every character using a given key. To decrypt the output, merely reapplying the XOR function with the key will remove the cipher.\n",
    "\n",
    "*[Source](https://en.wikipedia.org/wiki/XOR_cipher)*\n",
    "\n",
    "#### XOR Cipher Trace Table\n",
    "\n",
    "| Plaintext | Key | Ciphertext |\n",
    "| - | - | - |\n",
    "| 0 | 0 | 0 |\n",
    "| 0 | 1 | 1 |\n",
    "| 1 | 0 | 1 |\n",
    "| 1 | 1 | 0 |"
   ]
  },
  {
   "cell_type": "code",
   "execution_count": 4,
   "metadata": {},
   "outputs": [],
   "source": [
    "# def xor(bytes1: bytearray, bytes2: bytearray) -> Union[bytes, None]:\n",
    "#   if len(bytes1) != len(bytes2):\n",
    "#     print(\"Input byte arrays must be of the same length.\")\n",
    "#     return None\n",
    "  \n",
    "#   return bytes([b1 ^ b2 for b1, b2 in zip(bytes1, bytes2)])\n",
    "\n",
    "def xor(bytes1: bytearray, bytes2: bytearray) -> bytes:\n",
    "  return bytes([b1 ^ b2 for b1, b2 in zip(bytes1, bytes2)])"
   ]
  },
  {
   "cell_type": "code",
   "execution_count": 5,
   "metadata": {},
   "outputs": [
    {
     "name": "stdout",
     "output_type": "stream",
     "text": [
      "Set 1 Challenge 2 passing\n"
     ]
    }
   ],
   "source": [
    "assert xor(bytearray.fromhex(\"1c0111001f010100061a024b53535009181c\"), bytearray.fromhex(\"686974207468652062756c6c277320657965\")).hex() == \"746865206b696420646f6e277420706c6179\"\n",
    "print(f'Set 1 Challenge 2 passing')"
   ]
  },
  {
   "attachments": {},
   "cell_type": "markdown",
   "metadata": {},
   "source": [
    "### Challenge 3 - Single-byte XOR cipher"
   ]
  },
  {
   "cell_type": "code",
   "execution_count": 6,
   "metadata": {},
   "outputs": [
    {
     "data": {
      "text/plain": [
       "b\"Cooking MC's like a pound of bacon\""
      ]
     },
     "execution_count": 6,
     "metadata": {},
     "output_type": "execute_result"
    }
   ],
   "source": [
    "from typing import Dict\n",
    "from string import ascii_lowercase\n",
    "from collections.abc import Iterable\n",
    "\n",
    "def character_frequency_score(input_bytes: bytearray) -> int:\n",
    "  letter_frequency = { 'e': 12.70, 't': 9.05, 'a': 8.16, 'o': 7.50, 'i': 6.96, 'n': 6.74, 's': 6.32, 'h': 6.09, 'r': 5.98, 'd': 4.25, 'l': 4.02, 'c': 2.78, 'u': 2.75, 'm': 2.40, 'w': 2.36, 'f': 2.22, 'g': 2.01, 'y': 1.97, 'p': 1.92, 'b': 1.49, 'v': 0.97, 'k': 0.77, 'j': 0.15, 'x': 0.15, 'q': 0.09, 'z': 0.07 }\n",
    "  allowed_characters = ['.', ',', '\\'', '\"', ' ', '!', '?', '-']\n",
    "\n",
    "  score = 0\n",
    "  for c in input_bytes:\n",
    "    if c < 0 or c > 127:\n",
    "      return -1000\n",
    "    c = chr(c)\n",
    "    if not c.isalnum() and c not in allowed_characters:\n",
    "        score -= 50\n",
    "    elif c.isalpha():\n",
    "        score += letter_frequency[c.lower()] * 10\n",
    "\n",
    "  return score\n",
    "\n",
    "def single_byte_xor_cipher(cipher_str: bytearray) -> Dict[str, Union[bytearray, int]]:\n",
    "  result = None\n",
    "\n",
    "  for n in range(0, 256):\n",
    "    # When using a single character/int for key, just duplicate to the length of the cipher\n",
    "    key = n.to_bytes(1, byteorder='big')\n",
    "    keystream = key * len(cipher_str)\n",
    "    xored_bytes = xor(cipher_str, keystream)\n",
    "    score = character_frequency_score(xored_bytes)\n",
    "    if result == None or result[\"score\"] < score: \n",
    "      result = {\"plaintext\": xored_bytes, \"key\": n, \"score\": score}\n",
    "\n",
    "  return result\n",
    "\n",
    "cipher = \"1b37373331363f78151b7f2b783431333d78397828372d363c78373e783a393b3736\"\n",
    "# print(single_byte_xor_cipher(cipher))\n",
    "cipher = bytearray.fromhex(cipher) # hex decode\n",
    "keystream = (88).to_bytes(1, \"big\") * len(cipher)\n",
    "xor(cipher, keystream)"
   ]
  },
  {
   "cell_type": "code",
   "execution_count": 7,
   "metadata": {},
   "outputs": [
    {
     "name": "stdout",
     "output_type": "stream",
     "text": [
      "Set 1 Challenge 3 passing\n"
     ]
    }
   ],
   "source": [
    "assert single_byte_xor_cipher(bytearray.fromhex(\"1b37373331363f78151b7f2b783431333d78397828372d363c78373e783a393b3736\"))[\"key\"] == 88\n",
    "print(f'Set 1 Challenge 3 passing')"
   ]
  },
  {
   "attachments": {},
   "cell_type": "markdown",
   "metadata": {},
   "source": [
    "### Challenge 4 - Detect single-character XOR"
   ]
  },
  {
   "cell_type": "code",
   "execution_count": 8,
   "metadata": {},
   "outputs": [
    {
     "data": {
      "text/plain": [
       "{'plaintext': b'Now that the party is jumping\\n', 'key': 53, 'score': 1350.8}"
      ]
     },
     "execution_count": 8,
     "metadata": {},
     "output_type": "execute_result"
    }
   ],
   "source": [
    "def detect_single_character_xor() -> Union[str, Union[bytearray, int]]:\n",
    "  best_result = None\n",
    "  with open('4.txt', 'r') as file:\n",
    "      lines = file.readlines()\n",
    "\n",
    "  for line in lines:\n",
    "      line = bytearray.fromhex(line.strip())  # convert line to bytearray\n",
    "      result = single_byte_xor_cipher(line.strip())\n",
    "      if best_result is None or best_result[\"score\"] < result[\"score\"]:\n",
    "          best_result = result\n",
    "\n",
    "  return best_result\n",
    "\n",
    "detect_single_character_xor()"
   ]
  },
  {
   "cell_type": "code",
   "execution_count": 9,
   "metadata": {},
   "outputs": [
    {
     "name": "stdout",
     "output_type": "stream",
     "text": [
      "Set 1 Challenge 4 passing\n"
     ]
    }
   ],
   "source": [
    "assert detect_single_character_xor()[\"key\"] == 53\n",
    "print(f'Set 1 Challenge 4 passing')"
   ]
  },
  {
   "attachments": {},
   "cell_type": "markdown",
   "metadata": {},
   "source": [
    "### Challenge 5 - Implement repeating-key XOR"
   ]
  },
  {
   "cell_type": "code",
   "execution_count": 10,
   "metadata": {},
   "outputs": [],
   "source": [
    "# TODO: Type Annotations\n",
    "import binascii\n",
    "\n",
    "def apply_repeating_key_xor(input_bytes: bytearray, key_bytes: bytearray) -> str:\n",
    "    encrypted_bytes = bytearray()\n",
    "    key_length = len(key_bytes)\n",
    "\n",
    "    for i, byte in enumerate(input_bytes):\n",
    "        # Rotate through the key's characters\n",
    "        key_byte = key_bytes[i % key_length]\n",
    "        encrypted_bytes.append(byte ^ key_byte)\n",
    "\n",
    "    encrypted_text_hex = binascii.hexlify(encrypted_bytes).decode('ascii')\n",
    "    return encrypted_text_hex\n",
    "\n",
    "# cipher_array = repeating_key_xor(\"Burning 'em, if you ain't quick and nimble\", \"ICE\")\n",
    "# binascii.hexlify(cipher_array).decode('ascii')"
   ]
  },
  {
   "cell_type": "code",
   "execution_count": 11,
   "metadata": {},
   "outputs": [
    {
     "name": "stdout",
     "output_type": "stream",
     "text": [
      "Set 1 Challenge 5 passing\n"
     ]
    }
   ],
   "source": [
    "input5 = \"\"\"Burning 'em, if you ain't quick and nimble\n",
    "I go crazy when I hear a cymbal\"\"\"\n",
    "output5 = \"\"\"0b3637272a2b2e63622c2e69692a23693a2a3c6324202d623d63343c2a26226324272765272a282b2f20430a652e2c652a3124333a653e2b2027630c692b20283165286326302e27282f\"\"\"\n",
    "\n",
    "input_bytes = bytearray(input5, 'utf-8')\n",
    "key_bytes = bytearray(\"ICE\", 'utf-8')\n",
    "\n",
    "assert apply_repeating_key_xor(input_bytes, key_bytes) == output5\n",
    "print(f'Set 1 Challenge 5 passing')"
   ]
  },
  {
   "attachments": {},
   "cell_type": "markdown",
   "metadata": {},
   "source": [
    "### Challenge 6 - Break repeating-key XOR\n",
    "\n",
    "Challenge 6 involves breaking a repeating-key XOR cipher. This type of cipher works by taking a plaintext message and a key, and then XORing the plaintext with the key repeated over and over again. If the key is shorter than the plaintext, it is repeated as many times as necessary.\n",
    "\n",
    "The challenge is to decrypt a message that has been encrypted with this type of cipher, without knowing the key. The key insight is that the key size can be guessed by looking at the Hamming distance between different parts of the ciphertext.\n",
    "\n",
    "The Hamming distance between two strings of equal length is the number of positions at which the corresponding symbols are different. In the context of this challenge, it is used to measure how different two byte sequences are.\n",
    "\n",
    "The idea is that if you guess the key size correctly, then the Hamming distance between two blocks of ciphertext that were encrypted with the same part of the key should be relatively low, because the same key was used to encrypt both blocks. On the other hand, if you guess the key size incorrectly, then the Hamming distance between two blocks of ciphertext should be relatively high, because different parts of the key were used to encrypt the blocks.\n",
    "\n",
    "So, the strategy is to guess different key sizes, calculate the average Hamming distance between blocks of ciphertext for each guessed key size, and then choose the key size with the lowest average Hamming distance.\n",
    "\n",
    "Once the key size is known, the ciphertext can be broken into blocks of that size, and each block can be decrypted independently, because each block was encrypted with the same part of the key. This reduces the problem to breaking a single-character XOR cipher, which can be done using frequency analysis.\n",
    "\n",
    "In summary, the Hamming distance is used to guess the key size, and then the key size is used to break the ciphertext into blocks that can be decrypted independently."
   ]
  },
  {
   "cell_type": "code",
   "execution_count": 12,
   "metadata": {},
   "outputs": [],
   "source": [
    "from typing import List\n",
    "\n",
    "def hamming_distance(bytes1: bytearray, bytes2: bytearray) -> int:\n",
    "  \"\"\"\n",
    "  Calculate the Hamming distance between two byte arrays.\n",
    "\n",
    "  Parameters:\n",
    "  bytes1, bytes2 (bytearray): The byte arrays to compare.\n",
    "\n",
    "  Returns:\n",
    "  int: The Hamming distance between the byte arrays.\n",
    "  \"\"\"\n",
    "  distance = 0\n",
    "  for b1, b2 in zip(bytes1, bytes2):\n",
    "    diff = bin(b1 ^ b2)\n",
    "    count = diff.count('1') # a 1 denoting a difference, see above table of XOR\n",
    "    distance += count\n",
    "\n",
    "  return distance\n",
    "\n",
    "assert hamming_distance(b'''this is a test''', b'''wokka wokka!!!''') == 37\n",
    "\n",
    "def to_blocks(lst: List[int], n: int) -> List[List[int]]:\n",
    "  \"\"\"\n",
    "  Split a list into blocks of a given size.\n",
    "\n",
    "  Parameters:\n",
    "  lst (List[int]): The list to split.\n",
    "  n (int): The size of the blocks.\n",
    "\n",
    "  Returns:\n",
    "  List[List[int]]: The list split into blocks.\n",
    "  \"\"\"\n",
    "  for i in range(0, len(lst), n):\n",
    "      yield lst[i:i + n]\n",
    "\n",
    "assert list(to_blocks([1,2,3,4,5,6,7,8], 2)) == [[1,2],[3,4],[5,6],[7,8]]\n",
    "assert list(to_blocks([1,2,3,4,5,6,7,8], 3)) == [[1,2,3],[4,5,6],[7,8]]\n",
    "assert list(to_blocks([], 4)) == []\n",
    "\n",
    "def find_keysize(ciphertext: bytearray, min_length: int = 2, max_length: int = 40) -> List[Dict[str, Union[float, int]]]:\n",
    "  \"\"\"\n",
    "  Find the most likely key size for a repeating-key XOR cipher.\n",
    "\n",
    "  Parameters:\n",
    "  ciphertext (bytearray): The encrypted text.\n",
    "  min_length, max_length (int): The minimum and maximum key sizes to consider.\n",
    "\n",
    "  Returns:\n",
    "  List[Dict[str, Union[float, int]]]: A list of dictionaries containing the average Hamming distance and the corresponding key size for each key size considered, sorted by average Hamming distance.\n",
    "  \"\"\"\n",
    "  keysize_scores = []\n",
    "  for KEYSIZE in range(min_length, max_length):\n",
    "    slice_size = 2 * KEYSIZE\n",
    "    # // floor division 100 // 3 = 33\n",
    "    measurements = len(ciphertext) // slice_size - 1\n",
    "    average_distance = 0\n",
    "    for i in range(measurements):\n",
    "      first = slice(i * slice_size, i * slice_size + KEYSIZE)\n",
    "      second = slice(i * slice_size + KEYSIZE, i * slice_size + 2 * KEYSIZE)\n",
    "\n",
    "      average_distance += hamming_distance(ciphertext[first], ciphertext[second])\n",
    "    average_distance /= KEYSIZE\n",
    "    average_distance /= measurements\n",
    "    keysize_scores.append({ \"average_distance\": average_distance, \"keysize\": KEYSIZE})\n",
    "\n",
    "  lowest_hamming = sorted(keysize_scores, key = lambda d: d[\"average_distance\"])\n",
    "\n",
    "  return lowest_hamming\n",
    "\n",
    "def break_repeating_key_xor(ciphertext: bytearray) -> bytearray:\n",
    "  \"\"\"\n",
    "  Decrypt a repeating-key XOR cipher.\n",
    "\n",
    "  Parameters:\n",
    "  ciphertext (bytearray): The encrypted text.\n",
    "\n",
    "  Returns:\n",
    "  bytearray: The decrypted text.\n",
    "  \"\"\"\n",
    "  KEYSIZE = find_keysize(ciphertext)[0][\"keysize\"]\n",
    "  # Try the best three keys\n",
    "  # for KEYSIZE in KEYSIZES[:3]:\n",
    "  key = bytes()\n",
    "  plaintext = []\n",
    "  for i in range(KEYSIZE):\n",
    "    chunk = single_byte_xor_cipher(bytes(ciphertext[i::KEYSIZE]))\n",
    "    k = bytes(chunk[\"key\"])\n",
    "    plaintext.append(chunk[\"plaintext\"])\n",
    "    key += k\n",
    "\n",
    "  message = bytes()\n",
    "  for i in range(max(map(len, plaintext))):\n",
    "    message += bytes([chunk[i] for chunk in plaintext if len(chunk) >= i + 1])\n",
    "\n",
    "  return message"
   ]
  },
  {
   "cell_type": "code",
   "execution_count": 13,
   "metadata": {},
   "outputs": [
    {
     "name": "stdout",
     "output_type": "stream",
     "text": [
      "Set 1 Challenge 6 passing\n"
     ]
    }
   ],
   "source": [
    "file6 = open('6.txt', 'r')\n",
    "ciphertext6 = base64.b64decode(file6.read())\n",
    "\n",
    "assert find_keysize(ciphertext6)[0][\"keysize\"] == 29\n",
    "assert break_repeating_key_xor(ciphertext6).decode(\"utf-8\").startswith(\"I'm back and I'm ringin'\")\n",
    "\n",
    "print(\"Set 1 Challenge 6 passing\")\n",
    "# print(break_repeating_key_xor(ciphertext6))"
   ]
  },
  {
   "attachments": {},
   "cell_type": "markdown",
   "metadata": {},
   "source": [
    "### Challenge 7 - AES in ECB mode\n",
    "\n",
    "AES is a block cipher. One key feature of block ciphers is they can only encrypt a specific sized block of plaintext. To encrypt plaintext that is not exactly 128 bits, it needs to use *padding* and a *mode of operation*."
   ]
  },
  {
   "cell_type": "code",
   "execution_count": 14,
   "metadata": {},
   "outputs": [],
   "source": [
    "from cryptography.hazmat.primitives.ciphers import Cipher, algorithms, modes\n",
    "\n",
    "def aes_ecb_decrypt(data: bytes, key: bytes) -> bytes:\n",
    "  \"\"\"\n",
    "  Decrypt data using AES in ECB mode.\n",
    "\n",
    "  Parameters:\n",
    "  data, key (bytes): The data to decrypt and the key to use for the decryption.\n",
    "\n",
    "  Returns:\n",
    "  bytes: The decrypted data.\n",
    "  \"\"\"\n",
    "  if not isinstance(data, bytes) or not isinstance(key, bytes):\n",
    "      raise TypeError(\"Data and key must be bytes.\")\n",
    "  if len(data) % len(key) != 0:\n",
    "      raise ValueError(\"Data length must be a multiple of key length.\")\n",
    "\n",
    "  cipher = Cipher(algorithms.AES(key), modes.ECB())\n",
    "  decryptor = cipher.decryptor()\n",
    "\n",
    "  return decryptor.update(data) + decryptor.finalize()\n",
    "\n",
    "def aes_ecb_encrypt(data: bytes, key: bytes) -> bytes:\n",
    "  \"\"\"\n",
    "  Encrypt data using AES in ECB mode.\n",
    "\n",
    "  Parameters:\n",
    "  data, key (bytes): The data to encrypt and the key to use for the encryption.\n",
    "\n",
    "  Returns:\n",
    "  bytes: The encrypted data.\n",
    "  \"\"\"\n",
    "  if not isinstance(data, bytes) or not isinstance(key, bytes):\n",
    "      raise TypeError(\"Data and key must be bytes.\")\n",
    "  if len(data) % len(key) != 0:\n",
    "      raise ValueError(\"Data length must be a multiple of key length.\")\n",
    "\n",
    "  cipher = Cipher(algorithms.AES(key), modes.ECB())\n",
    "  encryptor = cipher.encryptor()\n",
    "\n",
    "  return encryptor.update(data) + encryptor.finalize()"
   ]
  },
  {
   "cell_type": "code",
   "execution_count": 15,
   "metadata": {},
   "outputs": [],
   "source": [
    "input7 = b'aaaarandom datat'\n",
    "key = b'YELLOW SUBMARINE'\n",
    "assert aes_ecb_decrypt(aes_ecb_encrypt(input7, key), key) == input7"
   ]
  },
  {
   "cell_type": "code",
   "execution_count": 16,
   "metadata": {},
   "outputs": [
    {
     "name": "stdout",
     "output_type": "stream",
     "text": [
      "Set 1 Challenge 7 passing\n"
     ]
    }
   ],
   "source": [
    "with open('7.txt', 'r') as input_file:\n",
    "    ciphertext7 = base64.b64decode(input_file.read())\n",
    "\n",
    "key = b'YELLOW SUBMARINE'\n",
    "\n",
    "# Check that the decrypted text starts with the expected string\n",
    "assert aes_ecb_decrypt(ciphertext7, key).decode(\"utf-8\").startswith(\"I'm back and I'm ringin'\")\n",
    "\n",
    "print(\"Set 1 Challenge 7 passing\")"
   ]
  },
  {
   "attachments": {},
   "cell_type": "markdown",
   "metadata": {},
   "source": [
    "### Challenge 8 - Detect AES in ECB mode\n",
    "\n",
    ">In this file are a bunch of hex-encoded ciphertexts.\n",
    ">\n",
    ">One of them has been encrypted with ECB.\n",
    ">\n",
    ">Detect it.\n",
    ">\n",
    ">Remember that the problem with ECB is that it is stateless and deterministic; the same 16 byte plaintext block will always produce the same 16 byte ciphertext.\n",
    "\n",
    "Electronic codebook (ECB) is the mode of operation that divides the message into blocks of 16 bytes and pads the last block if it's not 16 bytes long.\n",
    "Encryption is deterministic, encrypting the same block twice leads to the same ciphertext. Also, this means encrypting block by block the resulting ciphertext might have repeating patterns."
   ]
  },
  {
   "cell_type": "code",
   "execution_count": 17,
   "metadata": {},
   "outputs": [],
   "source": [
    "def detect_aes_in_ecb_mode(file_path: str) -> Dict[str, Union[int, bytearray]]:\n",
    "  \"\"\"\n",
    "  Detect AES in ECB mode in a file by looking for duplicate blocks in the ciphertext.\n",
    "\n",
    "  Parameters:\n",
    "  file_path (str): The path to the file.\n",
    "\n",
    "  Returns:\n",
    "  dict: A dictionary containing the count of duplicate blocks and the line with the most duplicate blocks.\n",
    "  \"\"\"\n",
    "  with open(file_path, 'r') as file:\n",
    "      lines = file.readlines()\n",
    "\n",
    "  duplicate_counts = []\n",
    "  for line in lines:\n",
    "      cipher = bytearray.fromhex(line.strip())\n",
    "      # split each line into 16 byte long chunks and count duplicates\n",
    "      blocks = list(to_blocks(cipher, 16))\n",
    "      hex_blocks = [binascii.hexlify(block) for block in blocks]\n",
    "      duplicate_counts.append({ \"sum\": sum(hex_blocks.count(block) for block in hex_blocks), \"line\": cipher })\n",
    "\n",
    "  max_item = max(duplicate_counts, key=lambda x:x[\"sum\"])\n",
    "  return max_item\n"
   ]
  },
  {
   "cell_type": "code",
   "execution_count": 18,
   "metadata": {},
   "outputs": [
    {
     "name": "stdout",
     "output_type": "stream",
     "text": [
      "Set 1 Challenge 8 passing\n"
     ]
    }
   ],
   "source": [
    "assert detect_aes_in_ecb_mode('8.txt')[\"sum\"] == 22\n",
    "print(\"Set 1 Challenge 8 passing\")"
   ]
  },
  {
   "attachments": {},
   "cell_type": "markdown",
   "metadata": {},
   "source": [
    "## Crypto Challenge Set 2\n",
    "\n",
    "### Challenge 9 - Implement PKCS#7 padding\n",
    "\n",
    ">A block cipher transforms a fixed-sized block (usually 8 or 16 bytes) of plaintext into ciphertext. But we almost never want to transform a single block; we encrypt irregularly-sized messages.\n",
    ">\n",
    ">One way we account for irregularly-sized messages is by padding, creating a plaintext that is an even multiple of the blocksize. The most popular padding scheme is called PKCS#7.\n",
    ">\n",
    ">So: pad any block to a specific block length, by appending the number of bytes of padding to the end of the block. For instance,\n",
    ">\n",
    ">```\n",
    ">\"YELLOW SUBMARINE\"\n",
    ">```\n",
    ">... padded to 20 bytes would be:\n",
    ">\n",
    ">```\n",
    ">\"YELLOW SUBMARINE\\x04\\x04\\x04\\x04\"\n",
    ">```"
   ]
  },
  {
   "cell_type": "code",
   "execution_count": 19,
   "metadata": {},
   "outputs": [
    {
     "name": "stdout",
     "output_type": "stream",
     "text": [
      "Set 2 Challenge 1 passing\n"
     ]
    }
   ],
   "source": [
    "import binascii\n",
    "\n",
    "def pkcs7_padding(text, block_size):\n",
    "  padding_size = block_size - len(text) % block_size\n",
    "  return text + chr(padding_size).encode('ascii') * padding_size\n",
    "\n",
    "# def pkcs7_padding(data: bytes, block_size: int) -> bytes:\n",
    "  # if len(data) >= block_size: return data\n",
    "  # padding_size = block_size - len(data) % block_size\n",
    "  # padding size needed to determine what int we pad with\n",
    "  # 1 bit missing  -> pad with \\x01\n",
    "  # 4 bits missing -> pad with \\x04\n",
    "  # return data.ljust(block_size, chr(padding_size).encode('ascii'))\n",
    "  # return text + chr(padding_size).encode('ascii') * padding_size\n",
    "\n",
    "assert pkcs7_padding(b'YELLOW SUBMARINE', 20) == b'YELLOW SUBMARINE\\x04\\x04\\x04\\x04'\n",
    "print(\"Set 2 Challenge 1 passing\")"
   ]
  },
  {
   "cell_type": "code",
   "execution_count": 20,
   "metadata": {},
   "outputs": [],
   "source": [
    "def has_padding(data: bytes) -> bool:\n",
    "  # grab number on padding\n",
    "  # grab end to number\n",
    "  padding = data[-data[-1]:]\n",
    "\n",
    "  return all(padding[bit] == len(padding) for bit in range(0, len(padding)))\n",
    "\n",
    "assert has_padding(b'YELLOW SUBMARINE\\x04\\x04\\x04\\x04') == True\n",
    "\n",
    "def remove_padding(data: bytes) -> bytes:\n",
    "  if has_padding(data):\n",
    "    padding_length = data[len(data) - 1]\n",
    "    return data[:-padding_length]\n",
    "  \n",
    "  return data\n",
    "\n",
    "assert remove_padding(b'YELLOW SUBMARINE\\x04\\x04\\x04\\x04') == b'YELLOW SUBMARINE'"
   ]
  },
  {
   "attachments": {},
   "cell_type": "markdown",
   "metadata": {},
   "source": [
    "### Challenge 10 - Implement CBC mode\n",
    "\n",
    ">CBC mode is a block cipher mode that allows us to encrypt irregularly-sized messages, despite the fact that a block cipher natively only transforms individual blocks.\n",
    ">\n",
    ">In CBC mode, each ciphertext block is added to the next plaintext block before the next call to the cipher core.\n",
    ">\n",
    ">The first plaintext block, which has no associated previous ciphertext block, is added to a \"fake 0th ciphertext block\" called the initialization vector, or IV.\n",
    ">\n",
    ">Implement CBC mode by hand by taking the ECB function you wrote earlier, making it encrypt instead of decrypt (verify this by decrypting whatever you encrypt to test), and using your XOR function from the previous exercise to combine them.\n",
    ">\n",
    ">The file here is intelligible (somewhat) when CBC decrypted against \"YELLOW SUBMARINE\" with an IV of all ASCII 0 (\\x00\\x00\\x00 &c)\n",
    "\n",
    "*Cipher block chaining* (CBC) uses an *initialization vector* (IC) to randomize the encryption. IV has the length of the block size and must be random and unpredicatble.\n",
    "\n",
    "1. Generate random, unpredictable IV of blocksize length\n",
    "2. XOR IV and first block\n",
    "3. Encrypt the XORed result\n",
    "4. XOR the just produced ciphertext with the next block of plaintext\n",
    "5. Encrypt plaintext \n",
    "6. If there's more plaintext, go to 4"
   ]
  },
  {
   "cell_type": "code",
   "execution_count": 21,
   "metadata": {},
   "outputs": [],
   "source": [
    "import os\n",
    "\n",
    "# def aes_ecb_encrypt(data, key):\n",
    "#   cipher = Cipher(algorithms.AES128(key), modes.ECB())\n",
    "#   encryptor = cipher.encryptor()\n",
    "\n",
    "#   return encryptor.update(pkcs7_padding(data, len(key))) + encryptor.finalize()\n",
    "\n",
    "def aes_cbc_decrypt(ciphertext: bytearray, key: bytearray, iv: bytearray) -> bytearray:\n",
    "  blocks = list(to_blocks(ciphertext, 16))\n",
    "  plaintext = bytes()\n",
    "  for block in blocks:\n",
    "    # if len(b) != 16: b = pkcs7_padding(b, 16)\n",
    "    plaintext += xor(aes_ecb_decrypt(block, key), iv)\n",
    "    iv = block\n",
    "\n",
    "  return remove_padding(plaintext)\n",
    "\n",
    "\n",
    "def aes_cbc_encrypt(plaintext: bytearray, key: bytearray, iv: bytearray) -> bytearray:\n",
    "  IV = iv\n",
    "  blocks = list(to_blocks(plaintext, 16))\n",
    "  ciphertext = bytes()\n",
    "  for block in blocks:\n",
    "    if len(block) != 16: \n",
    "        block = pkcs7_padding(block, 16)\n",
    "    xored = xor(block, IV)\n",
    "    encrypted = aes_ecb_encrypt(xored, key)\n",
    "    ciphertext += encrypted\n",
    "    IV = encrypted  # Update IV to the last block of the ciphertext\n",
    "\n",
    "  return ciphertext\n",
    "\n",
    "  # IV = iv\n",
    "  # blocks = list(to_blocks(plaintext, 16))\n",
    "  # ciphertext = bytes()\n",
    "  # for i, block in enumerate(blocks):\n",
    "  #   if len(block) != 16 and i == len(blocks) - 1:\n",
    "  #     block = pkcs7_padding(block, 16)\n",
    "  #   xored = xor(block, IV)\n",
    "  #   ciphertext += aes_ecb_encrypt(xored, key)\n",
    "  #   IV = ciphertext\n",
    "\n",
    "  # return ciphertext\n",
    "\n",
    "# def aes_cbc_encrypt(plaintext: bytearray, key: bytearray, iv: bytearray) -> bytearray:\n",
    "#   IV = iv\n",
    "#   blocks = list(to_blocks(plaintext, 16))\n",
    "#   ciphertext = bytes()\n",
    "#   for block in blocks:\n",
    "#     if len(block) != 16: block = pkcs7_padding(block, 16)\n",
    "#     xored = xor(block, IV)\n",
    "#     ciphertext += aes_ecb_encrypt(xored, key)\n",
    "#     IV = ciphertext\n",
    "\n",
    "#   return ciphertext\n",
    "\n"
   ]
  },
  {
   "cell_type": "code",
   "execution_count": 22,
   "metadata": {},
   "outputs": [
    {
     "name": "stdout",
     "output_type": "stream",
     "text": [
      "Set 2 Challenge 10 passing\n"
     ]
    }
   ],
   "source": [
    "STARTING_IV = os.urandom(16)\n",
    "input10 = b'This is not 16 bytes'\n",
    "key = b'YELLOW SUBMARINE'\n",
    "# cipher = aes_cbc_encrypt(input10, key, STARTING_IV)\n",
    "# plain = aes_cbc_decrypt(cipher, key, STARTING_IV)\n",
    "# print(cipher)\n",
    "# print(plain)\n",
    "assert aes_cbc_decrypt(aes_cbc_encrypt(input10, key, STARTING_IV), key, STARTING_IV) == input10\n",
    "print('Set 2 Challenge 10 passing')\n",
    "# aes_in_ecb_mode(cipher, b'YELLOW SUBMARINE')"
   ]
  },
  {
   "attachments": {},
   "cell_type": "markdown",
   "metadata": {},
   "source": [
    "### Challenge 11 - An ECB/CBC detection oracle\n",
    "\n",
    ">Now that you have ECB and CBC working:\n",
    ">\n",
    ">Write a function to generate a random AES key; that's just 16 random bytes.\n",
    ">\n",
    ">Write a function that encrypts data under an unknown key --- that is, a function that generates a random key and encrypts under it.\n",
    ">\n",
    ">The function should look like:\n",
    ">\n",
    "```\n",
    "encryption_oracle(your-input)\n",
    "=> [MEANINGLESS JIBBER JABBER]\n",
    "```\n",
    ">Under the hood, have the function append 5-10 bytes (count chosen randomly) before the plaintext and 5-10 bytes after the plaintext.\n",
    ">\n",
    ">Now, have the function choose to encrypt under ECB 1/2 the time, and under CBC the other half (just use random IVs each time for CBC). Use rand(2) to decide which to use.\n",
    ">\n",
    ">Detect the block cipher mode the function is using each time. You should end up with a piece of code that, pointed at a block box that might be encrypting ECB or CBC, tells you which one is happening."
   ]
  },
  {
   "cell_type": "code",
   "execution_count": 35,
   "metadata": {},
   "outputs": [
    {
     "name": "stdout",
     "output_type": "stream",
     "text": [
      "Encrypting with CBC\n",
      "Detected ECB\n"
     ]
    }
   ],
   "source": [
    "import random\n",
    "import secrets\n",
    "\n",
    "def aes_key(length = 16):\n",
    "  return os.urandom(length)\n",
    "\n",
    "assert len(aes_key()) == 16\n",
    "assert aes_key() != aes_key()\n",
    "\n",
    "def aes_ecb_encrypt(data, key):\n",
    "  cipher = Cipher(algorithms.AES(key), modes.ECB())\n",
    "  encryptor = cipher.encryptor()\n",
    "\n",
    "  return encryptor.update(pkcs7_padding(data, 16)) + encryptor.finalize()\n",
    "\n",
    "def encryption_oracle(data):\n",
    "    # 1. append 5-10 bytes (randomly) before and after plaintext\n",
    "    # 2. pick randomly (rand(2)) to encrypt using ECB or CBC\n",
    "    # 3. use aes_key function \n",
    "    number_of_bytes = random.randint(5, 10)\n",
    "    random_bytes = os.urandom(number_of_bytes)\n",
    "    padded_data = pkcs7_padding(random_bytes + data + random_bytes, 16)\n",
    "    encrypt_mode = random.randint(1, 2)\n",
    "\n",
    "    match encrypt_mode:\n",
    "       case 1:\n",
    "          print('Encrypting with CBC')\n",
    "          STARTING_IV = os.urandom(16)\n",
    "          return aes_cbc_encrypt(padded_data, aes_key(), STARTING_IV)\n",
    "       case 2:\n",
    "          print('Encrypting with ECB')\n",
    "          return aes_ecb_encrypt(padded_data, aes_key())\n",
    "\n",
    "def detect_block_cipher(ciphertext: bytes) -> str:\n",
    "    \"\"\"\n",
    "    Detect the block cipher mode (ECB or CBC) used to encrypt a ciphertext.\n",
    "\n",
    "    Parameters:\n",
    "    ciphertext (bytes): The ciphertext to analyze.\n",
    "\n",
    "    Returns:\n",
    "    str: The detected block cipher mode (\"ECB\" or \"CBC\").\n",
    "    \"\"\"\n",
    "    # Split the ciphertext into blocks\n",
    "    blocks = [ciphertext[i:i+16] for i in range(0, len(ciphertext), 16)]\n",
    "\n",
    "    # Count the number of unique blocks\n",
    "    unique_blocks = len(set(blocks))\n",
    "\n",
    "    # If the number of unique blocks is less than the total number of blocks,\n",
    "    # then there are repeated blocks in the ciphertext, which suggests that\n",
    "    # ECB mode was used. Otherwise, CBC mode was likely used.\n",
    "    return \"ECB\" if unique_blocks < len(blocks) else \"CBC\"\n",
    "\n",
    "print(f\"Detected {detect_block_cipher(encryption_oracle(b'This is 16 bytes'))}\")"
   ]
  },
  {
   "cell_type": "code",
   "execution_count": 24,
   "metadata": {},
   "outputs": [
    {
     "data": {
      "text/plain": [
       "[b'123456789abcdefg', b'hijkl']"
      ]
     },
     "execution_count": 24,
     "metadata": {},
     "output_type": "execute_result"
    }
   ],
   "source": [
    "# puts data into chunks of length (16)\n",
    "s = b'123456789abcdefghijkl'\n",
    "[s[i:i+16] for i in range(0, len(s), 16)]"
   ]
  }
 ],
 "metadata": {
  "kernelspec": {
   "display_name": ".venv",
   "language": "python",
   "name": "python3"
  },
  "language_info": {
   "codemirror_mode": {
    "name": "ipython",
    "version": 3
   },
   "file_extension": ".py",
   "mimetype": "text/x-python",
   "name": "python",
   "nbconvert_exporter": "python",
   "pygments_lexer": "ipython3",
   "version": "3.10.12"
  },
  "orig_nbformat": 4,
  "vscode": {
   "interpreter": {
    "hash": "5f8ac3743021832da3f9f8e821a68f91279b660076b5d7066c1d19f7e5557523"
   }
  }
 },
 "nbformat": 4,
 "nbformat_minor": 2
}
