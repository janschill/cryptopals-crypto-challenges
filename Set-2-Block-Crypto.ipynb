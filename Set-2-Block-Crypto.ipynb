{
 "cells": [
  {
   "attachments": {},
   "cell_type": "markdown",
   "metadata": {},
   "source": [
    "# Crypto Challenge Set 2"
   ]
  },
  {
   "attachments": {},
   "cell_type": "markdown",
   "metadata": {},
   "source": [
    "## Challenge 9 - Implement PKCS#7 padding\n",
    "\n",
    ">A block cipher transforms a fixed-sized block (usually 8 or 16 bytes) of plaintext into ciphertext. But we almost never want to transform a single block; we encrypt irregularly-sized messages.\n",
    ">\n",
    ">One way we account for irregularly-sized messages is by padding, creating a plaintext that is an even multiple of the blocksize. The most popular padding scheme is called PKCS#7.\n",
    ">\n",
    ">So: pad any block to a specific block length, by appending the number of bytes of padding to the end of the block. For instance,\n",
    ">\n",
    ">```\n",
    ">\"YELLOW SUBMARINE\"\n",
    ">```\n",
    ">... padded to 20 bytes would be:\n",
    ">\n",
    ">```\n",
    ">\"YELLOW SUBMARINE\\x04\\x04\\x04\\x04\"\n",
    ">```"
   ]
  },
  {
   "cell_type": "code",
   "execution_count": 27,
   "metadata": {},
   "outputs": [
    {
     "name": "stdout",
     "output_type": "stream",
     "text": [
      "Set 2 Challenge 1 passing\n"
     ]
    }
   ],
   "source": [
    "import binascii\n",
    "\n",
    "def pkcs7_padding(str, blocksize):\n",
    "  if len(str) >= blocksize: return str\n",
    "  padding = b'\\x04'\n",
    "  for i in range(blocksize - len(str)): str += padding\n",
    "\n",
    "  return str\n",
    "\n",
    "actual = pkcs7_padding(b'YELLOW SUBMARINE', 20)\n",
    "expected = b'YELLOW SUBMARINE\\x04\\x04\\x04\\x04'\n",
    "assert actual == expected\n",
    "print(\"Set 2 Challenge 1 passing\")"
   ]
  }
 ],
 "metadata": {
  "kernelspec": {
   "display_name": ".venv",
   "language": "python",
   "name": "python3"
  },
  "language_info": {
   "codemirror_mode": {
    "name": "ipython",
    "version": 3
   },
   "file_extension": ".py",
   "mimetype": "text/x-python",
   "name": "python",
   "nbconvert_exporter": "python",
   "pygments_lexer": "ipython3",
   "version": "3.10.6"
  },
  "orig_nbformat": 4,
  "vscode": {
   "interpreter": {
    "hash": "5f8ac3743021832da3f9f8e821a68f91279b660076b5d7066c1d19f7e5557523"
   }
  }
 },
 "nbformat": 4,
 "nbformat_minor": 2
}
