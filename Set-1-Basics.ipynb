{
 "cells": [
  {
   "attachments": {},
   "cell_type": "markdown",
   "metadata": {},
   "source": [
    "# Set 1 - The Cryptopals Crypto Challenges"
   ]
  },
  {
   "attachments": {},
   "cell_type": "markdown",
   "metadata": {},
   "source": [
    "Cryptopals Rule:\n",
    ">Always operate on raw bytes, never on encoded strings. Only use hex and base64 for pretty-printing.\n",
    "\n",
    "## Encodings\n",
    "\n",
    "- ASCII (256). [Table](https://www.ascii-code.com/compact)\n",
    "- HEX (16)\n",
    "\n",
    "## Numbering Systems\n",
    "\n",
    "1. Binary (base 2)\n",
    "2. [Octal](https://www.electronics-tutorials.ws/binary/bin_4.html) (base 8)\n",
    "3. Decimal (base 10)\n",
    "4. Hexadecimal (base 16)\n",
    "\n",
    "| Binary | 0 | 1 | 10 | 11 | 100 | 101 | 110 | 111 | 1000 | 1001 | 1010 | 1011 | 1100 | 1101 | 1110 | 1111 | 10000 |\n",
    "| -:| -:| -:| -:| -:| -:| -:| -:| -:| -:| -:| -:| -:| -:| -:| -:| -:| -:|\n",
    "| Decimal | 0 | 1 | 2 | 3 | 4 | 5 | 6 | 7 | 8 | 9  | 10 | 11 | 12 | 13 | 14 | 15 | 16 |\n",
    "| Hexadecimal | 0 | 1 | 2 | 3 | 4 | 5 | 6 | 7 | 8 | 9  | A | B | C | D | E | F | 10 |\n",
    "\n",
    "### Example\n",
    "\n",
    "Represent the decimal number 512 in hex: `512 = 2 x 16^2 + 0 x 16^1 + 0 x 160 = 200`"
   ]
  },
  {
   "attachments": {},
   "cell_type": "markdown",
   "metadata": {},
   "source": [
    "## Challenge 1 - Convert hex to base64"
   ]
  },
  {
   "cell_type": "code",
   "execution_count": 135,
   "metadata": {},
   "outputs": [],
   "source": [
    "import base64\n",
    "\n",
    "def convert_hex_to_base64(str):\n",
    "  # first decode string from hex representation\n",
    "  raw_bytes = bytearray.fromhex(str)\n",
    "  # now encode bytes to base64 encoding\n",
    "  b64_bytes = base64.b64encode(raw_bytes)\n",
    "\n",
    "  return b64_bytes"
   ]
  },
  {
   "attachments": {},
   "cell_type": "markdown",
   "metadata": {},
   "source": [
    "## Challenge 2 - Fixed XOR"
   ]
  },
  {
   "attachments": {},
   "cell_type": "markdown",
   "metadata": {},
   "source": [
    ">In cryptography, the simple XOR cipher is a type of additive cipher, an encryption algorithm that operates according to the principles:\n",
    "\n",
    "```\n",
    "A ^ 0 = A\n",
    "A ^ A = 0\n",
    "A ^ B = B ^ A\n",
    "(A ^ B) ^ C = A ^ (B ^ C)\n",
    "(B ^ A) ^ A = B ^ 0 = B\n",
    "```\n",
    "\n",
    ">where `^` denotes the exclusive disjunction (XOR) operation. This operation is sometimes called modulus 2 addition (or subtraction, which is identical). With this logic, a string of text can be encrypted by applying the bitwise XOR operator to every character using a given key. To decrypt the output, merely reapplying the XOR function with the key will remove the cipher.\n",
    "\n",
    "*[Source](https://en.wikipedia.org/wiki/XOR_cipher)*\n",
    "\n",
    "### XOR Cipher Trace Table\n",
    "\n",
    "| Plaintext | Key | Ciphertext |\n",
    "| - | - | - |\n",
    "| 0 | 0 | 0 |\n",
    "| 0 | 1 | 1 |\n",
    "| 1 | 0 | 1 |\n",
    "| 1 | 1 | 0 |"
   ]
  },
  {
   "cell_type": "code",
   "execution_count": 136,
   "metadata": {},
   "outputs": [],
   "source": [
    "def xor(bytes1, bytes2):\n",
    "  return bytes([b1 ^ b2 for b1, b2 in zip(bytes1, bytes2)])\n"
   ]
  },
  {
   "attachments": {},
   "cell_type": "markdown",
   "metadata": {},
   "source": [
    "## Challenge 3 - Single-byte XOR cipher"
   ]
  },
  {
   "cell_type": "code",
   "execution_count": 137,
   "metadata": {},
   "outputs": [],
   "source": [
    "from string import ascii_lowercase\n",
    "from collections.abc import Iterable\n",
    "\n",
    "letter_frequency = { 'e': 12.70, 't': 9.05, 'a': 8.16, 'o': 7.50, 'i': 6.96, 'n': 6.74, 's': 6.32, 'h': 6.09, 'r': 5.98, 'd': 4.25, 'l': 4.02, 'c': 2.78, 'u': 2.75, 'm': 2.40, 'w': 2.36, 'f': 2.22, 'g': 2.01, 'y': 1.97, 'p': 1.92, 'b': 1.49, 'v': 0.97, 'k': 0.77, 'j': 0.15, 'x': 0.15, 'q': 0.09, 'z': 0.07 }\n",
    "allowed_characters = ['.', ',', '\\'', '\"', ' ', '!', '?', '-']\n",
    "\n",
    "def charater_frequency_score(str):\n",
    "  score = 0\n",
    "  for c in str:\n",
    "    if c < 0 or c > 127:\n",
    "      return -1000\n",
    "    c = chr(c)\n",
    "    if not c.isalnum() and c not in allowed_characters:\n",
    "        score -= 50\n",
    "    elif c.isalpha():\n",
    "        score += letter_frequency[c.lower()] * 10\n",
    "\n",
    "  return score\n",
    "\n",
    "def single_byte_xor_cipher(cipher_str):\n",
    "  if isinstance(cipher_str, str): cipher_str = bytearray.fromhex(cipher_str)\n",
    "  result = None\n",
    "\n",
    "  for n in range(0, 256):\n",
    "    # When using a single character/int for key, just duplicate to the length of the cipher\n",
    "    key = n.to_bytes(1, byteorder='big')\n",
    "    keystream = key * len(cipher_str)\n",
    "    xored_bytes = xor(cipher_str, keystream)\n",
    "    score = charater_frequency_score(xored_bytes)\n",
    "    if result == None or result[\"score\"] < score: \n",
    "      result = {\"plaintext\": xored_bytes, \"key\": n, \"score\": score}\n",
    "\n",
    "  return result\n",
    "\n",
    "# cipher = \"1b37373331363f78151b7f2b783431333d78397828372d363c78373e783a393b3736\"\n",
    "# print(single_byte_xor_cipher(cipher))\n",
    "# cipher = bytearray.fromhex(cipher) # hex decode\n",
    "# keystream = (88).to_bytes(1, \"big\") * len(cipher)\n",
    "# xor(cipher, keystream)"
   ]
  },
  {
   "attachments": {},
   "cell_type": "markdown",
   "metadata": {},
   "source": [
    "## Challenge 4 - Detect single-character XOR"
   ]
  },
  {
   "cell_type": "code",
   "execution_count": 138,
   "metadata": {},
   "outputs": [
    {
     "data": {
      "text/plain": [
       "{'plaintext': b'Now that the party is jumping\\n', 'key': 53, 'score': 1350.8}"
      ]
     },
     "execution_count": 138,
     "metadata": {},
     "output_type": "execute_result"
    }
   ],
   "source": [
    "def detect_single_character_xor():\n",
    "  file = open('4.txt', 'r')\n",
    "  lines = file.readlines()\n",
    "  highest_score = None\n",
    "  for line in lines:\n",
    "      result = single_byte_xor_cipher(line)\n",
    "      if highest_score == None or highest_score[\"score\"] < result[\"score\"]:\n",
    "        highest_score = result\n",
    "\n",
    "  return highest_score\n",
    "\n",
    "detect_single_character_xor()"
   ]
  },
  {
   "attachments": {},
   "cell_type": "markdown",
   "metadata": {},
   "source": [
    "## Challenge 5 - Implement repeating-key XOR"
   ]
  },
  {
   "cell_type": "code",
   "execution_count": 139,
   "metadata": {},
   "outputs": [],
   "source": [
    "import binascii\n",
    "\n",
    "def repeating_key_xor(s, key):\n",
    "  if isinstance(s, str): s = bytes(s, \"utf-8\")\n",
    "  if isinstance(key, str): key = bytes(key, \"utf-8\")\n",
    "  cipher = []\n",
    "\n",
    "  for i in range(len(s)):\n",
    "    b = s[i]\n",
    "    # Rotate through the key's characters\n",
    "    c = key[i % len(key)]\n",
    "    cipher.append(b ^ c)\n",
    "\n",
    "  pp = binascii.hexlify(bytes(cipher)).decode('ascii')\n",
    "  # print(pp)\n",
    "  return pp\n",
    "\n",
    "# cipher_array = repeating_key_xor(\"Burning 'em, if you ain't quick and nimble\", \"ICE\")\n",
    "# binascii.hexlify(cipher_array).decode('ascii')"
   ]
  },
  {
   "attachments": {},
   "cell_type": "markdown",
   "metadata": {},
   "source": [
    "## Challenge 6 - Break repeating-key XOR"
   ]
  },
  {
   "cell_type": "code",
   "execution_count": 140,
   "metadata": {},
   "outputs": [],
   "source": [
    "def hamming_distance(bytes1, bytes2):\n",
    "  distance = 0\n",
    "  for b1, b2 in zip(bytes1, bytes2):\n",
    "    diff = bin(b1 ^ b2)\n",
    "    count = diff.count('1') # a 1 denoting a difference, see above table of XOR\n",
    "    distance += count\n",
    "\n",
    "  return distance\n",
    "\n",
    "assert hamming_distance(b'''this is a test''', b'''wokka wokka!!!''') == 37"
   ]
  },
  {
   "cell_type": "code",
   "execution_count": 141,
   "metadata": {},
   "outputs": [],
   "source": [
    "def to_blocks(lst, n):\n",
    "  for i in range(0, len(lst), n):\n",
    "      yield lst[i:i + n]\n",
    "\n",
    "# List comprehension\n",
    "# def to_blocks(lst, n):\n",
    "  # return [lst[i:i + n] for i in range(0, len(lst), n)]\n",
    "\n",
    "assert list(to_blocks([1,2,3,4,5,6,7,8], 2)) == [[1,2],[3,4],[5,6],[7,8]]\n",
    "assert list(to_blocks([1,2,3,4,5,6,7,8], 3)) == [[1,2,3],[4,5,6],[7,8]]\n",
    "assert list(to_blocks([], 4)) == []"
   ]
  },
  {
   "cell_type": "code",
   "execution_count": 143,
   "metadata": {},
   "outputs": [
    {
     "name": "stdout",
     "output_type": "stream",
     "text": [
      "b\"I'm back and I'm ringin' the bell \\nA rockin' on the mike while the fly girls yell \\nIn ecstasy in the back of me \\nWell that's my DJ Deshay cuttin' all them Z's \\nHittin' hard and the girlies goin' crazy \\nVanilla's on the mike, man I'm not lazy. \\n\\nI'm lettin' my drug kick in \\nIt controls my mouth and I begin \\nTo just let it flow, let my concepts go \\nMy posse's to the side yellin', Go Vanilla Go! \\n\\nSmooth 'cause that's the way I will be \\nAnd if you don't give a damn, then \\nWhy you starin' at me \\nSo get off 'cause I control the stage \\nThere's no dissin' allowed \\nI'm in my own phase \\nThe girlies sa y they love me and that is ok \\nAnd I can dance better than any kid n' play \\n\\nStage 2 -- Yea the one ya' wanna listen to \\nIt's off my head so let the beat play through \\nSo I can funk it up and make it sound good \\n1-2-3 Yo -- Knock on some wood \\nFor good luck, I like my rhymes atrocious \\nSupercalafragilisticexpialidocious \\nI'm an effect and that you can bet \\nI can take a fly girl and make her wet. \\n\\nI'm like Samson -- Samson to Delilah \\nThere's no denyin', You can try to hang \\nBut you'll keep tryin' to get my style \\nOver and over, practice makes perfect \\nBut not if you're a loafer. \\n\\nYou'll get nowhere, no place, no time, no girls \\nSoon -- Oh my God, homebody, you probably eat \\nSpaghetti with a spoon! Come on and say it! \\n\\nVIP. Vanilla Ice yep, yep, I'm comin' hard like a rhino \\nIntoxicating so you stagger like a wino \\nSo punks stop trying and girl stop cryin' \\nVanilla Ice is sellin' and you people are buyin' \\n'Cause why the freaks are jockin' like Crazy Glue \\nMovin' and groovin' trying to sing along \\nAll through the ghetto groovin' this here song \\nNow you're amazed by the VIP posse. \\n\\nSteppin' so hard like a German Nazi \\nStartled by the bases hittin' ground \\nThere's no trippin' on mine, I'm just gettin' down \\nSparkamatic, I'm hangin' tight like a fanatic \\nYou trapped me once and I thought that \\nYou might have it \\nSo step down and lend me your ear \\n'89 in my time! You, '90 is my year. \\n\\nYou're weakenin' fast, YO! and I can tell it \\nYour body's gettin' hot, so, so I can smell it \\nSo don't be mad and don't be sad \\n'Cause the lyrics belong to ICE, You can call me Dad \\nYou're pitchin' a fit, so step back and endure \\nLet the witch doctor, Ice, do the dance to cure \\nSo come up close and don't be square \\nYou wanna battle me -- Anytime, anywhere \\n\\nYou thought that I was weak, Boy, you're dead wrong \\nSo come on, everybody and sing this song \\n\\nSay -- Play that funky music Say, go white boy, go white boy go \\nplay that funky music Go white boy, go white boy, go \\nLay down and boogie and play that funky music till you die. \\n\\nPlay that funky music Come on, Come on, let me hear \\nPlay that funky music white boy you say it, say it \\nPlay that funky music A little louder now \\nPlay that funky music, white boy Come on, Come on, Come on \\nPlay that funky music \\n\"\n"
     ]
    }
   ],
   "source": [
    "def find_keysize(ciphertext, min_length = 2, max_length = 40):\n",
    "  dists_keys = []\n",
    "  for KEYSIZE in range(min_length, max_length):\n",
    "    slice_size = 2 * KEYSIZE\n",
    "    # // floor division 100 // 3 = 33\n",
    "    measurements = len(ciphertext) // slice_size - 1\n",
    "    score = 0\n",
    "    for i in range(measurements):\n",
    "      first = slice(i * slice_size, i * slice_size + KEYSIZE)\n",
    "      second = slice(i * slice_size + KEYSIZE, i * slice_size + 2 * KEYSIZE)\n",
    "\n",
    "      score += hamming_distance(ciphertext[first], ciphertext[second])\n",
    "    score /= KEYSIZE\n",
    "    score /= measurements\n",
    "    dists_keys.append({ \"score\": score, \"keysize\": KEYSIZE})\n",
    "\n",
    "  dists_keys.sort()\n",
    "\n",
    "  return dists_keys\n",
    "\n",
    "def break_repeating_key_xor(ciphertext):\n",
    "  KEYSIZE = find_keysize(ciphertext)[0][\"keysize\"]\n",
    "  # Try the best three keys\n",
    "  # for KEYSIZE in KEYSIZES[:3]:\n",
    "  key = bytes()\n",
    "  plaintext = []\n",
    "  for i in range(KEYSIZE):\n",
    "    chunk = single_byte_xor_cipher(bytes(ciphertext[i::KEYSIZE]))\n",
    "    k = bytes(chunk[\"key\"])\n",
    "    plaintext.append(chunk[\"plaintext\"])\n",
    "    key += k\n",
    "\n",
    "  message = bytes()\n",
    "  for i in range(max(map(len, plaintext))):\n",
    "    message += bytes([chunk[i] for chunk in plaintext if len(chunk) >= i + 1])\n",
    "\n",
    "  return message\n",
    "\n",
    "file6 = open('6.txt', 'r')\n",
    "ciphertext6 = base64.b64decode(file6.read())\n",
    "# print(find_keysize(ciphertext6))\n",
    "print(break_repeating_key_xor(ciphertext6))"
   ]
  },
  {
   "cell_type": "code",
   "execution_count": null,
   "metadata": {},
   "outputs": [
    {
     "name": "stdout",
     "output_type": "stream",
     "text": [
      "Set 1 Challenge 1 passing\n",
      "Set 1 Challenge 2 passing\n",
      "Set 1 Challenge 3 passing\n",
      "Set 1 Challenge 4 passing\n",
      "Set 1 Challenge 5 passing\n"
     ]
    }
   ],
   "source": [
    "def run_tests():\n",
    "  print(f'Set 1 Challenge 1 passing')\n",
    "  # https://docs.python.org/3/library/stdtypes.html#bytes.decode\n",
    "  assert convert_hex_to_base64(\"49276d206b696c6c696e6720796f757220627261696e206c696b65206120706f69736f6e6f7573206d757368726f6f6d\").decode() == \"SSdtIGtpbGxpbmcgeW91ciBicmFpbiBsaWtlIGEgcG9pc29ub3VzIG11c2hyb29t\"\n",
    "  print(f'Set 1 Challenge 2 passing')\n",
    "  assert xor(bytearray.fromhex(\"1c0111001f010100061a024b53535009181c\"), bytearray.fromhex(\"686974207468652062756c6c277320657965\")).hex() == \"746865206b696420646f6e277420706c6179\"\n",
    "  print(f'Set 1 Challenge 3 passing')\n",
    "  assert single_byte_xor_cipher(\"1b37373331363f78151b7f2b783431333d78397828372d363c78373e783a393b3736\")[\"key\"] == 88\n",
    "  print(f'Set 1 Challenge 4 passing')\n",
    "  assert detect_single_character_xor()[\"key\"] == 53\n",
    "  print(f'Set 1 Challenge 5 passing')\n",
    "  input5 = \"\"\"Burning 'em, if you ain't quick and nimble\n",
    "I go crazy when I hear a cymbal\"\"\"\n",
    "  output5 = \"\"\"0b3637272a2b2e63622c2e69692a23693a2a3c6324202d623d63343c2a26226324272765272a282b2f20430a652e2c652a3124333a653e2b2027630c692b20283165286326302e27282f\"\"\"\n",
    "  assert repeating_key_xor(input5, \"ICE\") == output5 \n",
    "\n",
    "run_tests()"
   ]
  }
 ],
 "metadata": {
  "kernelspec": {
   "display_name": "Python 3",
   "language": "python",
   "name": "python3"
  },
  "language_info": {
   "codemirror_mode": {
    "name": "ipython",
    "version": 3
   },
   "file_extension": ".py",
   "mimetype": "text/x-python",
   "name": "python",
   "nbconvert_exporter": "python",
   "pygments_lexer": "ipython3",
   "version": "3.10.6"
  },
  "orig_nbformat": 4,
  "vscode": {
   "interpreter": {
    "hash": "b0fa6594d8f4cbf19f97940f81e996739fb7646882a419484c72d19e05852a7e"
   }
  }
 },
 "nbformat": 4,
 "nbformat_minor": 2
}
