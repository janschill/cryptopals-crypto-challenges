{
 "cells": [
  {
   "cell_type": "code",
   "execution_count": 48,
   "metadata": {},
   "outputs": [],
   "source": [
    "import base64\n",
    "\n",
    "def convert_hex_to_base64(str):\n",
    "  raw_bytes = bytearray.fromhex(str)\n",
    "  b64_bytes = base64.b64encode(raw_bytes)\n",
    "\n",
    "  return b64_bytes"
   ]
  },
  {
   "cell_type": "code",
   "execution_count": 63,
   "metadata": {},
   "outputs": [],
   "source": [
    "# true  | true  | false\n",
    "# true  | false | true\n",
    "# false | true  | true\n",
    "# false | false | false\n",
    "def xor(b1, b2):\n",
    "  # if len(b1) != len(b2): return\n",
    "  xored = map(lambda e: e[0] ^ e[1], list(zip(b1, b2)))\n",
    "\n",
    "  return bytes(list(xored))\n",
    "\n",
    "def fixed_xor(str1, str2):\n",
    "  bytes1 = bytearray.fromhex(str1)\n",
    "  bytes2 = bytearray.fromhex(str2)\n",
    "\n",
    "  return xor(bytes1, bytes2)"
   ]
  },
  {
   "cell_type": "code",
   "execution_count": 142,
   "metadata": {},
   "outputs": [],
   "source": [
    "from string import ascii_lowercase\n",
    "from collections.abc import Iterable\n",
    "\n",
    "letter_frequency = { 'e': 12.70, 't': 9.05, 'a': 8.16, 'o': 7.50, 'i': 6.96, 'n': 6.74, 's': 6.32, 'h': 6.09, 'r': 5.98, 'd': 4.25, 'l': 4.02, 'c': 2.78, 'u': 2.75, 'm': 2.40, 'w': 2.36, 'f': 2.22, 'g': 2.01, 'y': 1.97, 'p': 1.92, 'b': 1.49, 'v': 0.97, 'k': 0.77, 'j': 0.15, 'x': 0.15, 'q': 0.09, 'z': 0.07 }\n",
    "allowed_characters = ['.', ',', '\\'', '\"', ' ', '!', '?', '-']\n",
    "\n",
    "def charater_frequency_score(str):\n",
    "  score = 0\n",
    "  for c in str:\n",
    "    if c < 0 or c > 127:\n",
    "      return -1000\n",
    "    c = chr(c)\n",
    "    if not c.isalnum() and c not in allowed_characters:\n",
    "        score -= 50\n",
    "    elif c.isalpha():\n",
    "        score += letter_frequency[c.lower()] * 10\n",
    "\n",
    "  return score\n",
    "\n",
    "def xor_byte(bs, i):\n",
    "    if isinstance(bs, Iterable):\n",
    "      return bytes(\n",
    "          [b ^ i for b in bs]\n",
    "      )\n",
    "    return bytes(bs ^ i)\n",
    "\n",
    "def single_byte_xor_cipher(cipher_str):\n",
    "  char_scores = []\n",
    "\n",
    "  for n in range(0, 256):\n",
    "    xored_bytes = xor_byte(bytearray.fromhex(cipher_str), n)\n",
    "    score = charater_frequency_score(xored_bytes)\n",
    "    char_scores.append((n, score))\n",
    "\n",
    "  return sorted(char_scores, key = lambda t: t[1], reverse=True)\n",
    "\n",
    "# cipher = \"1b37373331363f78151b7f2b783431333d78397828372d363c78373e783a393b3736\"\n",
    "# xor_byte(bytearray.fromhex(cipher), 88)"
   ]
  },
  {
   "cell_type": "code",
   "execution_count": 132,
   "metadata": {},
   "outputs": [
    {
     "data": {
      "text/plain": [
       "('7b5a4215415d544115415d5015455447414c155c46155f4058455c5b523f\\n', 53, 1350.8)"
      ]
     },
     "execution_count": 132,
     "metadata": {},
     "output_type": "execute_result"
    }
   ],
   "source": [
    "def detect_single_character_xor():\n",
    "  file = open('4.txt', 'r')\n",
    "  lines = file.readlines()\n",
    "  highest_score = (None, None, -1)\n",
    "  for line in lines:\n",
    "      score_tuple = single_byte_xor_cipher(line)[0]\n",
    "      if (highest_score[2] < score_tuple[1]): highest_score = (line, score_tuple[0], score_tuple[1])\n",
    "\n",
    "  return highest_score\n",
    "\n",
    "# cipher = \"7b5a4215415d544115415d5015455447414c155c46155f4058455c5b523f\"\n",
    "# xor_byte(bytearray.fromhex(cipher), 53)"
   ]
  },
  {
   "cell_type": "code",
   "execution_count": 201,
   "metadata": {},
   "outputs": [],
   "source": [
    "import binascii\n",
    "\n",
    "def encode_repeating_key_xor(s, key):\n",
    "    xored = [s[i] ^ key[i % len(key)] for i in range(len(s))]\n",
    "    return bytes(xored)\n",
    "\n",
    "def repeating_key_xor(str, key):\n",
    "  str_bytes = bytes(str, \"utf-8\")\n",
    "  key_bytes = bytes(key, \"utf-8\")\n",
    "  cipher = []\n",
    "\n",
    "  for i in range(len(str_bytes)):\n",
    "    b = str_bytes[i]\n",
    "    c = key_bytes[i % 3]\n",
    "    cipher.append(b ^ c)\n",
    "\n",
    "  pp = binascii.hexlify(bytes(cipher)).decode('ascii')\n",
    "  # print(pp)\n",
    "  return pp\n",
    "\n",
    "# cipher_array = repeating_key_xor(\"Burning 'em, if you ain't quick and nimble\", \"ICE\")\n",
    "# binascii.hexlify(cipher_array).decode('ascii')"
   ]
  },
  {
   "cell_type": "code",
   "execution_count": 222,
   "metadata": {},
   "outputs": [
    {
     "name": "stdout",
     "output_type": "stream",
     "text": [
      "37\n"
     ]
    }
   ],
   "source": [
    "def hamming_distance(bytes1, bytes2):\n",
    "  distance = 0\n",
    "  for b1, b2 in zip(bytes1, bytes2):\n",
    "    diff = bin(b1 ^ b2)\n",
    "    count = diff.count('1')\n",
    "    distance += count\n",
    "\n",
    "  return distance\n",
    "\n",
    "assert hamming_distance(b'''this is a test''', b'''wokka wokka!!!''') == 37\n",
    "\n",
    "def break_repeating_key_xor():\n",
    "  KEYSIZE = 2 # 2–40\n",
    "  file = open('6.txt', 'r')\n",
    "  lines = file.readlines()\n",
    "  for line in lines:\n",
    "    print(line)\n",
    "\n",
    "  return None"
   ]
  },
  {
   "cell_type": "code",
   "execution_count": 202,
   "metadata": {},
   "outputs": [
    {
     "name": "stdout",
     "output_type": "stream",
     "text": [
      "Set 1 Challenge 1 passing\n",
      "Set 1 Challenge 2 passing\n",
      "Set 1 Challenge 3 passing\n",
      "Set 1 Challenge 4 passing\n",
      "Set 1 Challenge 5 passing\n"
     ]
    }
   ],
   "source": [
    "def run_tests():\n",
    "  print(f'Set 1 Challenge 1 passing')\n",
    "  # https://docs.python.org/3/library/stdtypes.html#bytes.decode\n",
    "  assert convert_hex_to_base64(\"49276d206b696c6c696e6720796f757220627261696e206c696b65206120706f69736f6e6f7573206d757368726f6f6d\").decode() == \"SSdtIGtpbGxpbmcgeW91ciBicmFpbiBsaWtlIGEgcG9pc29ub3VzIG11c2hyb29t\"\n",
    "  print(f'Set 1 Challenge 2 passing')\n",
    "  assert fixed_xor(\"1c0111001f010100061a024b53535009181c\", \"686974207468652062756c6c277320657965\").hex() == \"746865206b696420646f6e277420706c6179\"\n",
    "  print(f'Set 1 Challenge 3 passing')\n",
    "  # print(single_byte_xor_cipher(\"1b37373331363f78151b7f2b783431333d78397828372d363c78373e783a393b3736\")[0])\n",
    "  print(f'Set 1 Challenge 4 passing')\n",
    "  # print(detect_single_character_xor())\n",
    "  print(f'Set 1 Challenge 5 passing')\n",
    "  input5 = \"\"\"Burning 'em, if you ain't quick and nimble\n",
    "I go crazy when I hear a cymbal\"\"\"\n",
    "  output5 = \"\"\"0b3637272a2b2e63622c2e69692a23693a2a3c6324202d623d63343c2a26226324272765272a282b2f20430a652e2c652a3124333a653e2b2027630c692b20283165286326302e27282f\"\"\"\n",
    "  assert repeating_key_xor(input5, \"ICE\") == output5 \n",
    "\n",
    "run_tests()"
   ]
  }
 ],
 "metadata": {
  "kernelspec": {
   "display_name": "Python 3",
   "language": "python",
   "name": "python3"
  },
  "language_info": {
   "codemirror_mode": {
    "name": "ipython",
    "version": 3
   },
   "file_extension": ".py",
   "mimetype": "text/x-python",
   "name": "python",
   "nbconvert_exporter": "python",
   "pygments_lexer": "ipython3",
   "version": "3.10.6"
  },
  "orig_nbformat": 4,
  "vscode": {
   "interpreter": {
    "hash": "b0fa6594d8f4cbf19f97940f81e996739fb7646882a419484c72d19e05852a7e"
   }
  }
 },
 "nbformat": 4,
 "nbformat_minor": 2
}
